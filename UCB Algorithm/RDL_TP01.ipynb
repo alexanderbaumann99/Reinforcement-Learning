{
 "cells": [
  {
   "cell_type": "code",
   "execution_count": 2,
   "metadata": {},
   "outputs": [],
   "source": [
    "import pandas as pd\n",
    "import numpy as np\n",
    "import seaborn as sns\n",
    "import matplotlib.pyplot as plt"
   ]
  },
  {
   "cell_type": "code",
   "execution_count": 19,
   "metadata": {},
   "outputs": [
    {
     "name": "stderr",
     "output_type": "stream",
     "text": [
      "<ipython-input-19-bcf1b6e49625>:1: ParserWarning: Falling back to the 'python' engine because the 'c' engine does not support regex separators (separators > 1 char and different from '\\s+' are interpreted as regex); you can avoid this warning by specifying engine='python'.\n",
      "  data = pd.read_csv(\"CTR.txt\", sep=\":|;\", header=None, index_col=0)\n"
     ]
    }
   ],
   "source": [
    "data = pd.read_csv(\"CTR.txt\", sep=\":|;\", header=None, index_col=0)"
   ]
  },
  {
   "cell_type": "code",
   "execution_count": 20,
   "metadata": {},
   "outputs": [
    {
     "data": {
      "text/html": [
       "<div>\n",
       "<style scoped>\n",
       "    .dataframe tbody tr th:only-of-type {\n",
       "        vertical-align: middle;\n",
       "    }\n",
       "\n",
       "    .dataframe tbody tr th {\n",
       "        vertical-align: top;\n",
       "    }\n",
       "\n",
       "    .dataframe thead th {\n",
       "        text-align: right;\n",
       "    }\n",
       "</style>\n",
       "<table border=\"1\" class=\"dataframe\">\n",
       "  <thead>\n",
       "    <tr style=\"text-align: right;\">\n",
       "      <th></th>\n",
       "      <th>1</th>\n",
       "      <th>2</th>\n",
       "      <th>3</th>\n",
       "      <th>4</th>\n",
       "      <th>5</th>\n",
       "      <th>6</th>\n",
       "      <th>7</th>\n",
       "      <th>8</th>\n",
       "      <th>9</th>\n",
       "      <th>10</th>\n",
       "      <th>11</th>\n",
       "      <th>12</th>\n",
       "      <th>13</th>\n",
       "      <th>14</th>\n",
       "      <th>15</th>\n",
       "    </tr>\n",
       "    <tr>\n",
       "      <th>0</th>\n",
       "      <th></th>\n",
       "      <th></th>\n",
       "      <th></th>\n",
       "      <th></th>\n",
       "      <th></th>\n",
       "      <th></th>\n",
       "      <th></th>\n",
       "      <th></th>\n",
       "      <th></th>\n",
       "      <th></th>\n",
       "      <th></th>\n",
       "      <th></th>\n",
       "      <th></th>\n",
       "      <th></th>\n",
       "      <th></th>\n",
       "    </tr>\n",
       "  </thead>\n",
       "  <tbody>\n",
       "    <tr>\n",
       "      <th>0</th>\n",
       "      <td>0.748371</td>\n",
       "      <td>0.835208</td>\n",
       "      <td>0.076699</td>\n",
       "      <td>0.172439</td>\n",
       "      <td>0.143446</td>\n",
       "      <td>0.103419</td>\n",
       "      <td>0.190698</td>\n",
       "      <td>0.000000</td>\n",
       "      <td>0.102401</td>\n",
       "      <td>0.036312</td>\n",
       "      <td>0.074562</td>\n",
       "      <td>0.234702</td>\n",
       "      <td>0.000000</td>\n",
       "      <td>0.000000</td>\n",
       "      <td>0.078574</td>\n",
       "    </tr>\n",
       "    <tr>\n",
       "      <th>1</th>\n",
       "      <td>0.168419</td>\n",
       "      <td>0.133754</td>\n",
       "      <td>0.434864</td>\n",
       "      <td>0.995678</td>\n",
       "      <td>0.048800</td>\n",
       "      <td>0.000000</td>\n",
       "      <td>0.000000</td>\n",
       "      <td>0.000000</td>\n",
       "      <td>0.020827</td>\n",
       "      <td>0.000000</td>\n",
       "      <td>0.000000</td>\n",
       "      <td>0.022586</td>\n",
       "      <td>0.000000</td>\n",
       "      <td>0.146548</td>\n",
       "      <td>0.324596</td>\n",
       "    </tr>\n",
       "    <tr>\n",
       "      <th>2</th>\n",
       "      <td>0.485287</td>\n",
       "      <td>0.566989</td>\n",
       "      <td>0.041657</td>\n",
       "      <td>0.962560</td>\n",
       "      <td>0.185080</td>\n",
       "      <td>0.109575</td>\n",
       "      <td>0.136626</td>\n",
       "      <td>0.000000</td>\n",
       "      <td>0.098411</td>\n",
       "      <td>0.074771</td>\n",
       "      <td>0.000000</td>\n",
       "      <td>0.000000</td>\n",
       "      <td>0.000000</td>\n",
       "      <td>0.014760</td>\n",
       "      <td>0.193677</td>\n",
       "    </tr>\n",
       "    <tr>\n",
       "      <th>3</th>\n",
       "      <td>0.622231</td>\n",
       "      <td>0.196123</td>\n",
       "      <td>0.131147</td>\n",
       "      <td>0.439719</td>\n",
       "      <td>0.298934</td>\n",
       "      <td>0.000000</td>\n",
       "      <td>0.151069</td>\n",
       "      <td>0.000000</td>\n",
       "      <td>0.127239</td>\n",
       "      <td>0.112239</td>\n",
       "      <td>0.000000</td>\n",
       "      <td>0.012022</td>\n",
       "      <td>0.034284</td>\n",
       "      <td>0.000000</td>\n",
       "      <td>0.086177</td>\n",
       "    </tr>\n",
       "    <tr>\n",
       "      <th>4</th>\n",
       "      <td>0.331710</td>\n",
       "      <td>0.086411</td>\n",
       "      <td>0.023036</td>\n",
       "      <td>0.925518</td>\n",
       "      <td>0.333580</td>\n",
       "      <td>0.000000</td>\n",
       "      <td>0.109214</td>\n",
       "      <td>0.000000</td>\n",
       "      <td>0.151938</td>\n",
       "      <td>0.049861</td>\n",
       "      <td>0.000000</td>\n",
       "      <td>0.000000</td>\n",
       "      <td>0.037427</td>\n",
       "      <td>0.118916</td>\n",
       "      <td>0.216592</td>\n",
       "    </tr>\n",
       "    <tr>\n",
       "      <th>...</th>\n",
       "      <td>...</td>\n",
       "      <td>...</td>\n",
       "      <td>...</td>\n",
       "      <td>...</td>\n",
       "      <td>...</td>\n",
       "      <td>...</td>\n",
       "      <td>...</td>\n",
       "      <td>...</td>\n",
       "      <td>...</td>\n",
       "      <td>...</td>\n",
       "      <td>...</td>\n",
       "      <td>...</td>\n",
       "      <td>...</td>\n",
       "      <td>...</td>\n",
       "      <td>...</td>\n",
       "    </tr>\n",
       "    <tr>\n",
       "      <th>4995</th>\n",
       "      <td>0.884773</td>\n",
       "      <td>0.573188</td>\n",
       "      <td>0.440228</td>\n",
       "      <td>0.442069</td>\n",
       "      <td>0.570648</td>\n",
       "      <td>0.000000</td>\n",
       "      <td>0.050079</td>\n",
       "      <td>0.000000</td>\n",
       "      <td>0.351960</td>\n",
       "      <td>0.000000</td>\n",
       "      <td>0.000000</td>\n",
       "      <td>0.209117</td>\n",
       "      <td>0.000000</td>\n",
       "      <td>0.000000</td>\n",
       "      <td>0.179310</td>\n",
       "    </tr>\n",
       "    <tr>\n",
       "      <th>4996</th>\n",
       "      <td>0.356803</td>\n",
       "      <td>0.480906</td>\n",
       "      <td>0.770139</td>\n",
       "      <td>0.000733</td>\n",
       "      <td>0.823579</td>\n",
       "      <td>0.000000</td>\n",
       "      <td>0.091090</td>\n",
       "      <td>0.053692</td>\n",
       "      <td>0.454966</td>\n",
       "      <td>0.000000</td>\n",
       "      <td>0.000000</td>\n",
       "      <td>0.197713</td>\n",
       "      <td>0.082983</td>\n",
       "      <td>0.000000</td>\n",
       "      <td>0.239932</td>\n",
       "    </tr>\n",
       "    <tr>\n",
       "      <th>4997</th>\n",
       "      <td>0.906725</td>\n",
       "      <td>0.264433</td>\n",
       "      <td>0.689159</td>\n",
       "      <td>0.794771</td>\n",
       "      <td>0.619311</td>\n",
       "      <td>0.000000</td>\n",
       "      <td>0.089158</td>\n",
       "      <td>0.000000</td>\n",
       "      <td>0.357520</td>\n",
       "      <td>0.025167</td>\n",
       "      <td>0.000000</td>\n",
       "      <td>0.000000</td>\n",
       "      <td>0.000000</td>\n",
       "      <td>0.000000</td>\n",
       "      <td>0.346313</td>\n",
       "    </tr>\n",
       "    <tr>\n",
       "      <th>4998</th>\n",
       "      <td>0.362092</td>\n",
       "      <td>0.710643</td>\n",
       "      <td>0.020286</td>\n",
       "      <td>0.294904</td>\n",
       "      <td>0.003659</td>\n",
       "      <td>0.041746</td>\n",
       "      <td>0.244817</td>\n",
       "      <td>0.000000</td>\n",
       "      <td>0.000000</td>\n",
       "      <td>0.005463</td>\n",
       "      <td>0.039315</td>\n",
       "      <td>0.146835</td>\n",
       "      <td>0.000000</td>\n",
       "      <td>0.074381</td>\n",
       "      <td>0.200630</td>\n",
       "    </tr>\n",
       "    <tr>\n",
       "      <th>4999</th>\n",
       "      <td>0.758669</td>\n",
       "      <td>0.495704</td>\n",
       "      <td>0.113833</td>\n",
       "      <td>0.339306</td>\n",
       "      <td>0.871860</td>\n",
       "      <td>0.000000</td>\n",
       "      <td>0.115706</td>\n",
       "      <td>0.000000</td>\n",
       "      <td>0.369901</td>\n",
       "      <td>0.036476</td>\n",
       "      <td>0.000000</td>\n",
       "      <td>0.000000</td>\n",
       "      <td>0.123837</td>\n",
       "      <td>0.000000</td>\n",
       "      <td>0.143134</td>\n",
       "    </tr>\n",
       "  </tbody>\n",
       "</table>\n",
       "<p>5000 rows × 15 columns</p>\n",
       "</div>"
      ],
      "text/plain": [
       "            1         2         3         4         5         6         7   \\\n",
       "0                                                                            \n",
       "0     0.748371  0.835208  0.076699  0.172439  0.143446  0.103419  0.190698   \n",
       "1     0.168419  0.133754  0.434864  0.995678  0.048800  0.000000  0.000000   \n",
       "2     0.485287  0.566989  0.041657  0.962560  0.185080  0.109575  0.136626   \n",
       "3     0.622231  0.196123  0.131147  0.439719  0.298934  0.000000  0.151069   \n",
       "4     0.331710  0.086411  0.023036  0.925518  0.333580  0.000000  0.109214   \n",
       "...        ...       ...       ...       ...       ...       ...       ...   \n",
       "4995  0.884773  0.573188  0.440228  0.442069  0.570648  0.000000  0.050079   \n",
       "4996  0.356803  0.480906  0.770139  0.000733  0.823579  0.000000  0.091090   \n",
       "4997  0.906725  0.264433  0.689159  0.794771  0.619311  0.000000  0.089158   \n",
       "4998  0.362092  0.710643  0.020286  0.294904  0.003659  0.041746  0.244817   \n",
       "4999  0.758669  0.495704  0.113833  0.339306  0.871860  0.000000  0.115706   \n",
       "\n",
       "            8         9         10        11        12        13        14  \\\n",
       "0                                                                            \n",
       "0     0.000000  0.102401  0.036312  0.074562  0.234702  0.000000  0.000000   \n",
       "1     0.000000  0.020827  0.000000  0.000000  0.022586  0.000000  0.146548   \n",
       "2     0.000000  0.098411  0.074771  0.000000  0.000000  0.000000  0.014760   \n",
       "3     0.000000  0.127239  0.112239  0.000000  0.012022  0.034284  0.000000   \n",
       "4     0.000000  0.151938  0.049861  0.000000  0.000000  0.037427  0.118916   \n",
       "...        ...       ...       ...       ...       ...       ...       ...   \n",
       "4995  0.000000  0.351960  0.000000  0.000000  0.209117  0.000000  0.000000   \n",
       "4996  0.053692  0.454966  0.000000  0.000000  0.197713  0.082983  0.000000   \n",
       "4997  0.000000  0.357520  0.025167  0.000000  0.000000  0.000000  0.000000   \n",
       "4998  0.000000  0.000000  0.005463  0.039315  0.146835  0.000000  0.074381   \n",
       "4999  0.000000  0.369901  0.036476  0.000000  0.000000  0.123837  0.000000   \n",
       "\n",
       "            15  \n",
       "0               \n",
       "0     0.078574  \n",
       "1     0.324596  \n",
       "2     0.193677  \n",
       "3     0.086177  \n",
       "4     0.216592  \n",
       "...        ...  \n",
       "4995  0.179310  \n",
       "4996  0.239932  \n",
       "4997  0.346313  \n",
       "4998  0.200630  \n",
       "4999  0.143134  \n",
       "\n",
       "[5000 rows x 15 columns]"
      ]
     },
     "execution_count": 20,
     "metadata": {},
     "output_type": "execute_result"
    }
   ],
   "source": [
    "data"
   ]
  },
  {
   "cell_type": "code",
   "execution_count": 5,
   "metadata": {},
   "outputs": [],
   "source": [
    "n, c = data.shape"
   ]
  },
  {
   "cell_type": "code",
   "execution_count": 14,
   "metadata": {},
   "outputs": [
    {
     "data": {
      "text/plain": [
       "Int64Index([1, 2, 3, 4, 5, 6, 7, 8, 9, 10, 11, 12, 13, 14, 15], dtype='int64')"
      ]
     },
     "execution_count": 14,
     "metadata": {},
     "output_type": "execute_result"
    }
   ],
   "source": [
    "data.columns"
   ]
  },
  {
   "cell_type": "markdown",
   "metadata": {},
   "source": [
    "## Stratégie Random : \n",
    "A chaque itération, on choisit n'importe quel annonceur\n"
   ]
  },
  {
   "cell_type": "code",
   "execution_count": 6,
   "metadata": {},
   "outputs": [],
   "source": [
    "select = np.random.randint(5, 15, n)\n",
    "reward = np.zeros(n)\n",
    "i = 0\n",
    "for s in select:\n",
    "    reward[i] = data.iloc[i, s]\n",
    "    i += 1\n",
    "total_reward_random = np.cumsum(reward)\n"
   ]
  },
  {
   "cell_type": "markdown",
   "metadata": {},
   "source": [
    "## Stratégie StaticBest : (triche) \n",
    "A chaque itération, on choisit l'annonceur avec le meilleur taux de clics cumulés"
   ]
  },
  {
   "cell_type": "code",
   "execution_count": 75,
   "metadata": {},
   "outputs": [],
   "source": [
    "scores = data.iloc[:, 5:15]\n",
    "scores_cumule = scores.sum()\n",
    "best_ann = scores_cumule.idxmax()\n",
    "reward = scores.iloc[:, best_ann]\n",
    "total_reward_best = np.cumsum(reward).to_numpy()"
   ]
  },
  {
   "cell_type": "markdown",
   "metadata": {},
   "source": [
    "## Stratégie Optimale : (triche)\n",
    "A chaque iteration, on choisit l'annonceur qui a le meilleur taux de clics à cette itération"
   ]
  },
  {
   "cell_type": "code",
   "execution_count": 80,
   "metadata": {},
   "outputs": [],
   "source": [
    "scores = data.iloc[:, 5:15]\n",
    "optimal_score = scores.max(axis=1)\n",
    "total_reward_optimal =  np.cumsum(optimal_score)"
   ]
  },
  {
   "cell_type": "markdown",
   "metadata": {},
   "source": [
    "## UCB:\n",
    "Initialisation, 1 -> 1, 2 -> 2..."
   ]
  },
  {
   "cell_type": "code",
   "execution_count": 108,
   "metadata": {},
   "outputs": [],
   "source": [
    "scores = data.iloc[:, 5:15]\n",
    "# upper-confidence Bound table\n",
    "B = np.zeros((n, 10))\n",
    "# number of selected time of annoncer\n",
    "count = np.zeros(10)\n",
    "# total reward of annoncer\n",
    "reward_empirique = np.zeros(10)\n",
    "ucb_reward = np.zeros(n)\n",
    "\n",
    "for i in range(10):\n",
    "    B[i, i] = 1\n",
    "    count[i] += 1\n",
    "    reward_empirique[i] += scores.iloc[i, i]\n",
    "    ucb_reward[i] = scores.iloc[i, i]"
   ]
  },
  {
   "cell_type": "code",
   "execution_count": 109,
   "metadata": {},
   "outputs": [],
   "source": [
    "for i in np.arange(10, n):\n",
    "    B[i] = reward_empirique / count + np.sqrt((2 * np.log(i + 1))/count)\n",
    "    c = B[i].argmax()\n",
    "    s = scores.iloc[i, c]\n",
    "    ucb_reward[i] = s\n",
    "    reward_empirique[c] += s\n",
    "    count[c] += 1\n",
    "total_ucb_reward = np.cumsum(ucb_reward)"
   ]
  },
  {
   "cell_type": "markdown",
   "id": "2c23a907-6cc1-4344-a808-38b56b5371b9",
   "metadata": {},
   "source": [
    "## Lin UCB:"
   ]
  },
  {
   "cell_type": "code",
   "execution_count": null,
   "id": "b6f25df0-6c2e-4a89-a076-ee3db20a4fc7",
   "metadata": {},
   "outputs": [],
   "source": []
  },
  {
   "cell_type": "code",
   "execution_count": 110,
   "metadata": {},
   "outputs": [
    {
     "data": {
      "text/plain": [
       "<matplotlib.legend.Legend at 0x7f18b12c35e0>"
      ]
     },
     "execution_count": 110,
     "metadata": {},
     "output_type": "execute_result"
    },
    {
     "data": {
      "image/png": "[encoded data removed]",
      "text/plain": [
       "<Figure size 1440x720 with 1 Axes>"
      ]
     },
     "metadata": {},
     "output_type": "display_data"
    }
   ],
   "source": [
    "# plot the results\n",
    "t = np.arange(1, n + 1)\n",
    "sns.set()\n",
    "fig, ax = plt.subplots(figsize=(20,10))\n",
    "ax.plot(t, total_reward_random, label=\"Total Random reward\")\n",
    "ax.plot(t, total_reward_best, label=\"Total StaticBest reward\")\n",
    "ax.plot(t, total_reward_optimal, label=\"Total Optimal reward\")\n",
    "ax.plot(t, total_ucb_reward, label=\"Total UCB reward\")\n",
    "ax.set_xlabel('articles')\n",
    "ax.set_ylabel('reward')\n",
    "ax.set_title('Bandits')\n",
    "ax.legend()"
   ]
  },
  {
   "cell_type": "code",
   "execution_count": null,
   "metadata": {},
   "outputs": [],
   "source": []
  }
 ],
 "metadata": {
  "kernelspec": {
   "display_name": "Python 3",
   "language": "python",
   "name": "python3"
  },
  "language_info": {
   "codemirror_mode": {
    "name": "ipython",
    "version": 3
   },
   "file_extension": ".py",
   "mimetype": "text/x-python",
   "name": "python",
   "nbconvert_exporter": "python",
   "pygments_lexer": "ipython3",
   "version": "3.8.5"
  }
 },
 "nbformat": 4,
 "nbformat_minor": 5
}

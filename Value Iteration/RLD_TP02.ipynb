{
 "cells": [
  {
   "cell_type": "code",
   "execution_count": 76,
   "metadata": {},
   "outputs": [],
   "source": [
    "import matplotlib\n",
    "import matplotlib.pyplot as plt\n",
    "matplotlib.use(\"TkAgg\")\n",
    "import gym\n",
    "import gridworld\n",
    "from gym import wrappers, logger\n",
    "import numpy as np\n",
    "import copy\n",
    "from numpy import linalg as LA"
   ]
  },
  {
   "cell_type": "markdown",
   "metadata": {},
   "source": [
    "# Play with the enviroment"
   ]
  },
  {
   "cell_type": "markdown",
   "metadata": {},
   "source": [
    "types de cases du jeu : \n",
    "0 correspond à une case vide, \n",
    "1 correspond à un mur (pas de reward associé car impossible de s’y déplacer), \n",
    "2 correspond au joueur,\n",
    "3 correspond à une case verte, \n",
    "4 une case jaune, \n",
    "5 une case rouge\n",
    "6 une case rose."
   ]
  },
  {
   "cell_type": "code",
   "execution_count": 31,
   "metadata": {},
   "outputs": [
    {
     "data": {
      "text/plain": [
       "array([[1, 1, 1, 1, 1, 1],\n",
       "       [1, 0, 0, 0, 3, 1],\n",
       "       [1, 0, 1, 0, 5, 1],\n",
       "       [1, 0, 0, 0, 2, 1],\n",
       "       [1, 1, 1, 1, 1, 1],\n",
       "       [1, 1, 1, 1, 1, 1]])"
      ]
     },
     "execution_count": 31,
     "metadata": {},
     "output_type": "execute_result"
    }
   ],
   "source": [
    "env = gym.make('gridworld-v0')\n",
    "env.verbose = True\n",
    "env.reset()"
   ]
  },
  {
   "cell_type": "code",
   "execution_count": 6,
   "metadata": {},
   "outputs": [
    {
     "data": {
      "text/plain": [
       "Discrete(4)"
      ]
     },
     "execution_count": 6,
     "metadata": {},
     "output_type": "execute_result"
    }
   ],
   "source": [
    "env.action_space"
   ]
  },
  {
   "cell_type": "code",
   "execution_count": 7,
   "metadata": {},
   "outputs": [],
   "source": [
    "action = 1\n",
    "obs,reward,done,info = env.step(action)"
   ]
  },
  {
   "cell_type": "code",
   "execution_count": 10,
   "metadata": {},
   "outputs": [
    {
     "data": {
      "text/plain": [
       "-0.001"
      ]
     },
     "execution_count": 10,
     "metadata": {},
     "output_type": "execute_result"
    }
   ],
   "source": [
    "reward"
   ]
  },
  {
   "cell_type": "code",
   "execution_count": 33,
   "metadata": {},
   "outputs": [],
   "source": [
    "ren = env.render()"
   ]
  },
  {
   "cell_type": "code",
   "execution_count": 22,
   "metadata": {
    "tags": []
   },
   "outputs": [],
   "source": [
    "states, P = env.getMDP()"
   ]
  },
  {
   "cell_type": "code",
   "execution_count": 23,
   "metadata": {},
   "outputs": [
    {
     "data": {
      "text/plain": [
       "['[[1, 1, 1, 1, 1, 1], [1, 0, 0, 0, 3, 1], [1, 0, 1, 0, 5, 1], [1, 0, 0, 0, 2, 1], [1, 1, 1, 1, 1, 1], [1, 1, 1, 1, 1, 1]]',\n",
       " '[[1, 1, 1, 1, 1, 1], [1, 0, 0, 0, 3, 1], [1, 0, 1, 0, 2, 1], [1, 0, 0, 0, 0, 1], [1, 1, 1, 1, 1, 1], [1, 1, 1, 1, 1, 1]]',\n",
       " '[[1, 1, 1, 1, 1, 1], [1, 0, 0, 0, 3, 1], [1, 0, 1, 0, 5, 1], [1, 0, 0, 2, 0, 1], [1, 1, 1, 1, 1, 1], [1, 1, 1, 1, 1, 1]]',\n",
       " '[[1, 1, 1, 1, 1, 1], [1, 0, 0, 0, 3, 1], [1, 0, 1, 2, 5, 1], [1, 0, 0, 0, 0, 1], [1, 1, 1, 1, 1, 1], [1, 1, 1, 1, 1, 1]]',\n",
       " '[[1, 1, 1, 1, 1, 1], [1, 0, 0, 2, 3, 1], [1, 0, 1, 0, 5, 1], [1, 0, 0, 0, 0, 1], [1, 1, 1, 1, 1, 1], [1, 1, 1, 1, 1, 1]]',\n",
       " '[[1, 1, 1, 1, 1, 1], [1, 0, 0, 0, 2, 1], [1, 0, 1, 0, 5, 1], [1, 0, 0, 0, 0, 1], [1, 1, 1, 1, 1, 1], [1, 1, 1, 1, 1, 1]]',\n",
       " '[[1, 1, 1, 1, 1, 1], [1, 0, 2, 0, 3, 1], [1, 0, 1, 0, 5, 1], [1, 0, 0, 0, 0, 1], [1, 1, 1, 1, 1, 1], [1, 1, 1, 1, 1, 1]]',\n",
       " '[[1, 1, 1, 1, 1, 1], [1, 2, 0, 0, 3, 1], [1, 0, 1, 0, 5, 1], [1, 0, 0, 0, 0, 1], [1, 1, 1, 1, 1, 1], [1, 1, 1, 1, 1, 1]]',\n",
       " '[[1, 1, 1, 1, 1, 1], [1, 0, 0, 0, 3, 1], [1, 2, 1, 0, 5, 1], [1, 0, 0, 0, 0, 1], [1, 1, 1, 1, 1, 1], [1, 1, 1, 1, 1, 1]]',\n",
       " '[[1, 1, 1, 1, 1, 1], [1, 0, 0, 0, 3, 1], [1, 0, 1, 0, 5, 1], [1, 2, 0, 0, 0, 1], [1, 1, 1, 1, 1, 1], [1, 1, 1, 1, 1, 1]]',\n",
       " '[[1, 1, 1, 1, 1, 1], [1, 0, 0, 0, 3, 1], [1, 0, 1, 0, 5, 1], [1, 0, 2, 0, 0, 1], [1, 1, 1, 1, 1, 1], [1, 1, 1, 1, 1, 1]]']"
      ]
     },
     "execution_count": 23,
     "metadata": {},
     "output_type": "execute_result"
    }
   ],
   "source": [
    "states"
   ]
  },
  {
   "cell_type": "code",
   "execution_count": 24,
   "metadata": {},
   "outputs": [
    {
     "data": {
      "text/plain": [
       "{0: {0: [(0.8, 0, -0.001, False),\n",
       "   (0.1, 0, -0.001, False),\n",
       "   (0.1, 2, -0.001, False)],\n",
       "  1: [(0.8, 1, -1, True), (0.1, 0, -0.001, False), (0.1, 2, -0.001, False)],\n",
       "  2: [(0.1, 0, -0.001, False), (0.1, 1, -1, True), (0.8, 2, -0.001, False)],\n",
       "  3: [(0.1, 0, -0.001, False), (0.1, 1, -1, True), (0.8, 0, -0.001, False)]},\n",
       " 2: {0: [(0.8, 2, -0.001, False),\n",
       "   (0.1, 0, -0.001, False),\n",
       "   (0.1, 10, -0.001, False)],\n",
       "  1: [(0.8, 3, -0.001, False),\n",
       "   (0.1, 0, -0.001, False),\n",
       "   (0.1, 10, -0.001, False)],\n",
       "  2: [(0.1, 2, -0.001, False),\n",
       "   (0.1, 3, -0.001, False),\n",
       "   (0.8, 10, -0.001, False)],\n",
       "  3: [(0.1, 2, -0.001, False),\n",
       "   (0.1, 3, -0.001, False),\n",
       "   (0.8, 0, -0.001, False)]},\n",
       " 3: {0: [(0.8, 2, -0.001, False), (0.1, 1, -1, True), (0.1, 3, -0.001, False)],\n",
       "  1: [(0.8, 4, -0.001, False), (0.1, 1, -1, True), (0.1, 3, -0.001, False)],\n",
       "  2: [(0.1, 2, -0.001, False),\n",
       "   (0.1, 4, -0.001, False),\n",
       "   (0.8, 3, -0.001, False)],\n",
       "  3: [(0.1, 2, -0.001, False), (0.1, 4, -0.001, False), (0.8, 1, -1, True)]},\n",
       " 4: {0: [(0.8, 3, -0.001, False), (0.1, 5, 1, True), (0.1, 6, -0.001, False)],\n",
       "  1: [(0.8, 4, -0.001, False), (0.1, 5, 1, True), (0.1, 6, -0.001, False)],\n",
       "  2: [(0.1, 3, -0.001, False),\n",
       "   (0.1, 4, -0.001, False),\n",
       "   (0.8, 6, -0.001, False)],\n",
       "  3: [(0.1, 3, -0.001, False), (0.1, 4, -0.001, False), (0.8, 5, 1, True)]},\n",
       " 6: {0: [(0.8, 6, -0.001, False),\n",
       "   (0.1, 4, -0.001, False),\n",
       "   (0.1, 7, -0.001, False)],\n",
       "  1: [(0.8, 6, -0.001, False),\n",
       "   (0.1, 4, -0.001, False),\n",
       "   (0.1, 7, -0.001, False)],\n",
       "  2: [(0.1, 6, -0.001, False),\n",
       "   (0.1, 6, -0.001, False),\n",
       "   (0.8, 7, -0.001, False)],\n",
       "  3: [(0.1, 6, -0.001, False),\n",
       "   (0.1, 6, -0.001, False),\n",
       "   (0.8, 4, -0.001, False)]},\n",
       " 7: {0: [(0.8, 8, -0.001, False),\n",
       "   (0.1, 6, -0.001, False),\n",
       "   (0.1, 7, -0.001, False)],\n",
       "  1: [(0.8, 7, -0.001, False),\n",
       "   (0.1, 6, -0.001, False),\n",
       "   (0.1, 7, -0.001, False)],\n",
       "  2: [(0.1, 8, -0.001, False),\n",
       "   (0.1, 7, -0.001, False),\n",
       "   (0.8, 7, -0.001, False)],\n",
       "  3: [(0.1, 8, -0.001, False),\n",
       "   (0.1, 7, -0.001, False),\n",
       "   (0.8, 6, -0.001, False)]},\n",
       " 8: {0: [(0.8, 9, -0.001, False),\n",
       "   (0.1, 8, -0.001, False),\n",
       "   (0.1, 8, -0.001, False)],\n",
       "  1: [(0.8, 7, -0.001, False),\n",
       "   (0.1, 8, -0.001, False),\n",
       "   (0.1, 8, -0.001, False)],\n",
       "  2: [(0.1, 9, -0.001, False),\n",
       "   (0.1, 7, -0.001, False),\n",
       "   (0.8, 8, -0.001, False)],\n",
       "  3: [(0.1, 9, -0.001, False),\n",
       "   (0.1, 7, -0.001, False),\n",
       "   (0.8, 8, -0.001, False)]},\n",
       " 9: {0: [(0.8, 9, -0.001, False),\n",
       "   (0.1, 10, -0.001, False),\n",
       "   (0.1, 9, -0.001, False)],\n",
       "  1: [(0.8, 8, -0.001, False),\n",
       "   (0.1, 10, -0.001, False),\n",
       "   (0.1, 9, -0.001, False)],\n",
       "  2: [(0.1, 9, -0.001, False),\n",
       "   (0.1, 8, -0.001, False),\n",
       "   (0.8, 9, -0.001, False)],\n",
       "  3: [(0.1, 9, -0.001, False),\n",
       "   (0.1, 8, -0.001, False),\n",
       "   (0.8, 10, -0.001, False)]},\n",
       " 10: {0: [(0.8, 10, -0.001, False),\n",
       "   (0.1, 2, -0.001, False),\n",
       "   (0.1, 9, -0.001, False)],\n",
       "  1: [(0.8, 10, -0.001, False),\n",
       "   (0.1, 2, -0.001, False),\n",
       "   (0.1, 9, -0.001, False)],\n",
       "  2: [(0.1, 10, -0.001, False),\n",
       "   (0.1, 10, -0.001, False),\n",
       "   (0.8, 9, -0.001, False)],\n",
       "  3: [(0.1, 10, -0.001, False),\n",
       "   (0.1, 10, -0.001, False),\n",
       "   (0.8, 2, -0.001, False)]}}"
      ]
     },
     "execution_count": 24,
     "metadata": {},
     "output_type": "execute_result"
    }
   ],
   "source": [
    "# S: {A: {[(P, S', R, Done), ...]}} \n",
    "P"
   ]
  },
  {
   "cell_type": "code",
   "execution_count": 26,
   "metadata": {},
   "outputs": [
    {
     "data": {
      "text/plain": [
       "dict_keys([0, 2, 3, 4, 6, 7, 8, 9, 10])"
      ]
     },
     "execution_count": 26,
     "metadata": {},
     "output_type": "execute_result"
    }
   ],
   "source": [
    "P.keys()"
   ]
  },
  {
   "cell_type": "code",
   "execution_count": 29,
   "metadata": {},
   "outputs": [
    {
     "data": {
      "text/plain": [
       "{0: [(0.8, 0, -0.001, False),\n",
       "  (0.1, 0, -0.001, False),\n",
       "  (0.1, 2, -0.001, False)],\n",
       " 1: [(0.8, 1, -1, True), (0.1, 0, -0.001, False), (0.1, 2, -0.001, False)],\n",
       " 2: [(0.1, 0, -0.001, False), (0.1, 1, -1, True), (0.8, 2, -0.001, False)],\n",
       " 3: [(0.1, 0, -0.001, False), (0.1, 1, -1, True), (0.8, 0, -0.001, False)]}"
      ]
     },
     "execution_count": 29,
     "metadata": {},
     "output_type": "execute_result"
    }
   ],
   "source": [
    "P[0]"
   ]
  },
  {
   "cell_type": "code",
   "execution_count": 30,
   "metadata": {},
   "outputs": [
    {
     "data": {
      "text/plain": [
       "dict_keys([0, 1, 2, 3])"
      ]
     },
     "execution_count": 30,
     "metadata": {},
     "output_type": "execute_result"
    }
   ],
   "source": [
    "P[0].keys()"
   ]
  },
  {
   "cell_type": "code",
   "execution_count": 34,
   "metadata": {},
   "outputs": [
    {
     "data": {
      "text/plain": [
       "array([[1, 1, 1, 1, 1, 1],\n",
       "       [1, 0, 0, 0, 3, 1],\n",
       "       [1, 0, 1, 0, 5, 1],\n",
       "       [1, 0, 0, 0, 2, 1],\n",
       "       [1, 1, 1, 1, 1, 1],\n",
       "       [1, 1, 1, 1, 1, 1]])"
      ]
     },
     "execution_count": 34,
     "metadata": {},
     "output_type": "execute_result"
    }
   ],
   "source": [
    "obs"
   ]
  },
  {
   "cell_type": "code",
   "execution_count": 14,
   "metadata": {},
   "outputs": [
    {
     "data": {
      "text/plain": [
       "0"
      ]
     },
     "execution_count": 14,
     "metadata": {},
     "output_type": "execute_result"
    }
   ],
   "source": [
    "# get number of state from a obs\n",
    "env.getStateFromObs(obs)"
   ]
  },
  {
   "cell_type": "code",
   "execution_count": 35,
   "metadata": {},
   "outputs": [
    {
     "data": {
      "text/plain": [
       "'[[1, 1, 1, 1, 1, 1], [1, 0, 0, 0, 3, 1], [1, 0, 1, 0, 5, 1], [1, 0, 0, 0, 2, 1], [1, 1, 1, 1, 1, 1], [1, 1, 1, 1, 1, 1]]'"
      ]
     },
     "execution_count": 35,
     "metadata": {},
     "output_type": "execute_result"
    }
   ],
   "source": [
    "states[0]"
   ]
  },
  {
   "cell_type": "markdown",
   "metadata": {},
   "source": [
    "# Policy implementation"
   ]
  },
  {
   "cell_type": "code",
   "execution_count": 89,
   "metadata": {},
   "outputs": [],
   "source": [
    "# Environment setting\n",
    "env = gym.make('gridworld-v0')\n",
    "env.verbose = True\n",
    "env.reset()\n",
    "states, MDP = env.getMDP()"
   ]
  },
  {
   "cell_type": "markdown",
   "metadata": {},
   "source": [
    "## policy iteration"
   ]
  },
  {
   "cell_type": "code",
   "execution_count": 37,
   "metadata": {},
   "outputs": [
    {
     "data": {
      "text/plain": [
       "Discrete(4)"
      ]
     },
     "execution_count": 37,
     "metadata": {},
     "output_type": "execute_result"
    }
   ],
   "source": [
    "env.action_space"
   ]
  },
  {
   "cell_type": "code",
   "execution_count": 79,
   "metadata": {},
   "outputs": [
    {
     "ename": "IndentationError",
     "evalue": "expected an indented block (<ipython-input-79-9e9895bd7e4f>, line 22)",
     "output_type": "error",
     "traceback": [
      "\u001b[0;36m  File \u001b[0;32m\"<ipython-input-79-9e9895bd7e4f>\"\u001b[0;36m, line \u001b[0;32m22\u001b[0m\n\u001b[0;31m    return\u001b[0m\n\u001b[0m    ^\u001b[0m\n\u001b[0;31mIndentationError\u001b[0m\u001b[0;31m:\u001b[0m expected an indented block\n"
     ]
    }
   ],
   "source": [
    "class PolicyIterationAgent(object):\n",
    "    \"\"\"The world's simplest agent!\"\"\"\n",
    "\n",
    "    def __init__(self, states, action_space, e=0.01, gamma=0.99):\n",
    "        self.action_space = action_space\n",
    "        self.e = e\n",
    "        self.PI = np.zeros(len(states))\n",
    "        self.V = np.zeros(len(states))\n",
    "        \n",
    "    def train(self, MDP):\n",
    "        while True:\n",
    "            PI_new = np.zeros_like(self.PI)\n",
    "            while True:\n",
    "                # V evaluation for policy PI\n",
    "                V_new = np.zeros_like(self.V)\n",
    "                for state, A_table in MDP.items():\n",
    "                    # for each state in v\n",
    "                    action = self.PI[state]\n",
    "                    s_prime_list = A_table[action]\n",
    "                    for p, s_prime, r, done in s_prime_list:\n",
    "                        # for each s_prime possible in state s with action PI[state]\n",
    "                        V_new[state] += p * (r + self.gamma*self.V[s_prime])\n",
    "                if LA.norm(self.V - V_new) < self.e:\n",
    "                    break\n",
    "                self.V = V_new\n",
    "                \n",
    "            for s in len(states):\n",
    "                actions = MDP[s]\n",
    "                values_a = np.zeros(len(actions))\n",
    "                \n",
    "                \n",
    "                PI_new[s] = \n",
    "            if np.array_equal(PI_new, self.PI):\n",
    "                break\n",
    "            self.PI = PI_new\n",
    "                \n",
    "    def act(self, observation):\n",
    "        return self.PI[observation]\n",
    "        "
   ]
  },
  {
   "cell_type": "code",
   "execution_count": 106,
   "metadata": {},
   "outputs": [
    {
     "data": {
      "text/plain": [
       "array([0., 0., 0., 0.])"
      ]
     },
     "execution_count": 106,
     "metadata": {},
     "output_type": "execute_result"
    }
   ],
   "source": [
    "np.zeros(4)"
   ]
  },
  {
   "cell_type": "code",
   "execution_count": 56,
   "metadata": {},
   "outputs": [
    {
     "ename": "TypeError",
     "evalue": "cannot unpack non-iterable int object",
     "output_type": "error",
     "traceback": [
      "\u001b[0;31m---------------------------------------------------------------------------\u001b[0m",
      "\u001b[0;31mTypeError\u001b[0m                                 Traceback (most recent call last)",
      "\u001b[0;32m<ipython-input-56-6b426a886059>\u001b[0m in \u001b[0;36m<module>\u001b[0;34m\u001b[0m\n\u001b[0;32m----> 1\u001b[0;31m \u001b[0;32mfor\u001b[0m \u001b[0mm\u001b[0m\u001b[0;34m,\u001b[0m \u001b[0mv\u001b[0m \u001b[0;32min\u001b[0m \u001b[0mMDP\u001b[0m\u001b[0;34m[\u001b[0m\u001b[0;36m0\u001b[0m\u001b[0;34m]\u001b[0m\u001b[0;34m:\u001b[0m\u001b[0;34m\u001b[0m\u001b[0;34m\u001b[0m\u001b[0m\n\u001b[0m\u001b[1;32m      2\u001b[0m     \u001b[0mprint\u001b[0m\u001b[0;34m(\u001b[0m\u001b[0mm\u001b[0m\u001b[0;34m)\u001b[0m\u001b[0;34m\u001b[0m\u001b[0;34m\u001b[0m\u001b[0m\n",
      "\u001b[0;31mTypeError\u001b[0m: cannot unpack non-iterable int object"
     ]
    }
   ],
   "source": [
    "for m, v in MDP[0]:\n",
    "    print(m)"
   ]
  },
  {
   "cell_type": "code",
   "execution_count": 86,
   "metadata": {},
   "outputs": [],
   "source": [
    "a = np.array([1,3])\n",
    "b = np.array([1,3])"
   ]
  },
  {
   "cell_type": "code",
   "execution_count": 87,
   "metadata": {},
   "outputs": [
    {
     "data": {
      "text/plain": [
       "True"
      ]
     },
     "execution_count": 87,
     "metadata": {},
     "output_type": "execute_result"
    }
   ],
   "source": [
    "np.array_equal(a, b)"
   ]
  },
  {
   "cell_type": "code",
   "execution_count": 103,
   "metadata": {},
   "outputs": [
    {
     "data": {
      "text/plain": [
       "array([[0., 0., 0., 0.]])"
      ]
     },
     "execution_count": 103,
     "metadata": {},
     "output_type": "execute_result"
    }
   ],
   "source": [
    "np.zeros((1,4))"
   ]
  },
  {
   "cell_type": "markdown",
   "metadata": {},
   "source": [
    "##  value iteration"
   ]
  },
  {
   "cell_type": "code",
   "execution_count": null,
   "metadata": {},
   "outputs": [],
   "source": []
  },
  {
   "cell_type": "code",
   "execution_count": 64,
   "metadata": {},
   "outputs": [
    {
     "name": "stdout",
     "output_type": "stream",
     "text": [
      "0\n",
      "[(0.8, 0, -0.001, False), (0.1, 0, -0.001, False), (0.1, 2, -0.001, False)]\n"
     ]
    }
   ],
   "source": [
    "for a, s_prime_list in MDP[0].items():\n",
    "    print(a)\n",
    "    print(s_prime_list)\n",
    "    break"
   ]
  },
  {
   "cell_type": "code",
   "execution_count": 67,
   "metadata": {},
   "outputs": [
    {
     "data": {
      "text/plain": [
       "[(0.8, 0, -0.001, False), (0.1, 0, -0.001, False), (0.1, 2, -0.001, False)]"
      ]
     },
     "execution_count": 67,
     "metadata": {},
     "output_type": "execute_result"
    }
   ],
   "source": [
    "MDP[0][0]"
   ]
  },
  {
   "cell_type": "code",
   "execution_count": 68,
   "metadata": {},
   "outputs": [
    {
     "name": "stdout",
     "output_type": "stream",
     "text": [
      "0.8\n"
     ]
    }
   ],
   "source": [
    "for a,b,c,d in MDP[0][0]:\n",
    "    print(a)\n",
    "    break"
   ]
  },
  {
   "cell_type": "code",
   "execution_count": 70,
   "metadata": {},
   "outputs": [],
   "source": [
    "a = np.zeros(len(states))"
   ]
  },
  {
   "cell_type": "code",
   "execution_count": 74,
   "metadata": {},
   "outputs": [],
   "source": [
    "b = np.zeros_like(a)"
   ]
  },
  {
   "cell_type": "code",
   "execution_count": 75,
   "metadata": {},
   "outputs": [
    {
     "data": {
      "text/plain": [
       "array([0., 0., 0., 0., 0., 0., 0., 0., 0., 0., 0.])"
      ]
     },
     "execution_count": 75,
     "metadata": {},
     "output_type": "execute_result"
    }
   ],
   "source": [
    "b"
   ]
  },
  {
   "cell_type": "code",
   "execution_count": 78,
   "metadata": {},
   "outputs": [
    {
     "data": {
      "text/plain": [
       "1.4142135623730951"
      ]
     },
     "execution_count": 78,
     "metadata": {},
     "output_type": "execute_result"
    }
   ],
   "source": [
    "LA.norm(np.array([1,2])- np.array([0,3]))"
   ]
  },
  {
   "cell_type": "code",
   "execution_count": null,
   "metadata": {},
   "outputs": [],
   "source": []
  }
 ],
 "metadata": {
  "kernelspec": {
   "display_name": "Python 3",
   "language": "python",
   "name": "python3"
  },
  "language_info": {
   "codemirror_mode": {
    "name": "ipython",
    "version": 3
   },
   "file_extension": ".py",
   "mimetype": "text/x-python",
   "name": "python",
   "nbconvert_exporter": "python",
   "pygments_lexer": "ipython3",
   "version": "3.8.5"
  }
 },
 "nbformat": 4,
 "nbformat_minor": 5
}
